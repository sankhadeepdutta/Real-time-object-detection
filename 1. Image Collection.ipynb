{
 "cells": [
  {
   "cell_type": "markdown",
   "metadata": {},
   "source": [
    "# 1. Import Dependencies"
   ]
  },
  {
   "cell_type": "code",
   "execution_count": 1,
   "metadata": {},
   "outputs": [
    {
     "name": "stdout",
     "output_type": "stream",
     "text": [
      "Collecting opencv-python\n",
      "  Downloading opencv_python-4.6.0.66-cp36-abi3-win_amd64.whl (35.6 MB)\n",
      "     ---------------------------------------- 35.6/35.6 MB 2.6 MB/s eta 0:00:00\n",
      "Requirement already satisfied: numpy>=1.21.2 in g:\\data-science\\lib\\site-packages (from opencv-python) (1.22.4)\n",
      "Installing collected packages: opencv-python\n",
      "Successfully installed opencv-python-4.6.0.66\n"
     ]
    },
    {
     "name": "stderr",
     "output_type": "stream",
     "text": [
      "WARNING: Ignoring invalid distribution -ip (g:\\data-science\\lib\\site-packages)\n",
      "WARNING: Ignoring invalid distribution -ip (g:\\data-science\\lib\\site-packages)\n",
      "WARNING: Ignoring invalid distribution -ip (g:\\data-science\\lib\\site-packages)\n",
      "WARNING: Ignoring invalid distribution -ip (g:\\data-science\\lib\\site-packages)\n",
      "WARNING: Ignoring invalid distribution -ip (g:\\data-science\\lib\\site-packages)\n",
      "WARNING: Ignoring invalid distribution -ip (g:\\data-science\\lib\\site-packages)\n",
      "WARNING: Ignoring invalid distribution -ip (g:\\data-science\\lib\\site-packages)\n"
     ]
    }
   ],
   "source": [
    "!pip install opencv-python"
   ]
  },
  {
   "cell_type": "code",
   "execution_count": 2,
   "metadata": {},
   "outputs": [],
   "source": [
    "# Import opencv\n",
    "import cv2 \n",
    "\n",
    "# Import uuid\n",
    "import uuid\n",
    "\n",
    "# Import Operating System\n",
    "import os\n",
    "\n",
    "# Import time\n",
    "import time"
   ]
  },
  {
   "cell_type": "markdown",
   "metadata": {},
   "source": [
    "# 2. Define Images to Collect"
   ]
  },
  {
   "cell_type": "code",
   "execution_count": 18,
   "metadata": {},
   "outputs": [],
   "source": [
    "#labels = ['thumbsup', 'thumbsdown', 'thankyou', 'livelong']\n",
    "labels = ['livelong']\n",
    "number_imgs = 15"
   ]
  },
  {
   "cell_type": "markdown",
   "metadata": {},
   "source": [
    "# 3. Setup Folders "
   ]
  },
  {
   "cell_type": "code",
   "execution_count": 4,
   "metadata": {},
   "outputs": [],
   "source": [
    "IMAGES_PATH = os.path.join('Tensorflow', 'workspace', 'images', 'collectedimages')"
   ]
  },
  {
   "cell_type": "code",
   "execution_count": 12,
   "metadata": {},
   "outputs": [],
   "source": [
    "if not os.path.exists(IMAGES_PATH):\n",
    "    if os.name == 'posix':\n",
    "        !mkdir -p {IMAGES_PATH}\n",
    "    if os.name == 'nt':\n",
    "         !mkdir {IMAGES_PATH}\n",
    "for label in labels:\n",
    "    path = os.path.join(IMAGES_PATH, label)\n",
    "    if not os.path.exists(path):\n",
    "        !mkdir {path}"
   ]
  },
  {
   "cell_type": "markdown",
   "metadata": {},
   "source": [
    "# 4. Capture Images"
   ]
  },
  {
   "cell_type": "code",
   "execution_count": 19,
   "metadata": {},
   "outputs": [
    {
     "name": "stdout",
     "output_type": "stream",
     "text": [
      "Collecting images for livelong\n",
      "Collecting image 0\n",
      "Collecting image 1\n",
      "Collecting image 2\n",
      "Collecting image 3\n",
      "Collecting image 4\n",
      "Collecting image 5\n",
      "Collecting image 6\n",
      "Collecting image 7\n",
      "Collecting image 8\n",
      "Collecting image 9\n",
      "Collecting image 10\n",
      "Collecting image 11\n",
      "Collecting image 12\n",
      "Collecting image 13\n",
      "Collecting image 14\n"
     ]
    }
   ],
   "source": [
    "for label in labels:\n",
    "    cap = cv2.VideoCapture(0)\n",
    "    print('Collecting images for {}'.format(label))\n",
    "    time.sleep(5)\n",
    "    for imgnum in range(number_imgs):\n",
    "        print('Collecting image {}'.format(imgnum))\n",
    "        ret, frame = cap.read()\n",
    "        imgname = os.path.join(IMAGES_PATH,label,label+'.'+'{}.jpg'.format(str(uuid.uuid1())))\n",
    "        cv2.imwrite(imgname, frame)\n",
    "        cv2.imshow('frame', frame)\n",
    "        time.sleep(2)\n",
    "\n",
    "        if cv2.waitKey(1) & 0xFF == ord('q'):\n",
    "            break\n",
    "cap.release()\n",
    "cv2.destroyAllWindows()"
   ]
  },
  {
   "cell_type": "markdown",
   "metadata": {},
   "source": [
    "# 5. Image Labelling"
   ]
  },
  {
   "cell_type": "code",
   "execution_count": 20,
   "metadata": {},
   "outputs": [
    {
     "name": "stdout",
     "output_type": "stream",
     "text": [
      "Collecting pyqt5\n",
      "  Downloading PyQt5-5.15.7-cp37-abi3-win_amd64.whl (6.8 MB)\n",
      "     ---------------------------------------- 6.8/6.8 MB 2.3 MB/s eta 0:00:00\n",
      "Collecting lxml\n",
      "  Downloading lxml-4.9.0-cp310-cp310-win_amd64.whl (3.6 MB)\n",
      "     ---------------------------------------- 3.6/3.6 MB 3.5 MB/s eta 0:00:00\n",
      "Collecting PyQt5-sip<13,>=12.11\n",
      "  Downloading PyQt5_sip-12.11.0-cp310-cp310-win_amd64.whl (78 kB)\n",
      "     ---------------------------------------- 78.3/78.3 kB 4.5 MB/s eta 0:00:00\n",
      "Collecting PyQt5-Qt5>=5.15.0\n",
      "  Downloading PyQt5_Qt5-5.15.2-py3-none-win_amd64.whl (50.1 MB)\n",
      "     ---------------------------------------- 50.1/50.1 MB 2.6 MB/s eta 0:00:00\n",
      "Installing collected packages: PyQt5-Qt5, PyQt5-sip, lxml, pyqt5\n",
      "Successfully installed PyQt5-Qt5-5.15.2 PyQt5-sip-12.11.0 lxml-4.9.0 pyqt5-5.15.7\n"
     ]
    },
    {
     "name": "stderr",
     "output_type": "stream",
     "text": [
      "WARNING: Ignoring invalid distribution -ip (g:\\data-science\\lib\\site-packages)\n",
      "WARNING: Ignoring invalid distribution -ip (g:\\data-science\\lib\\site-packages)\n",
      "WARNING: Ignoring invalid distribution -ip (g:\\data-science\\lib\\site-packages)\n",
      "WARNING: Ignoring invalid distribution -ip (g:\\data-science\\lib\\site-packages)\n",
      "WARNING: Ignoring invalid distribution -ip (g:\\data-science\\lib\\site-packages)\n",
      "WARNING: Ignoring invalid distribution -ip (g:\\data-science\\lib\\site-packages)\n",
      "WARNING: Ignoring invalid distribution -ip (g:\\data-science\\lib\\site-packages)\n",
      "WARNING: Ignoring invalid distribution -ip (g:\\data-science\\lib\\site-packages)\n",
      "WARNING: Ignoring invalid distribution -ip (g:\\data-science\\lib\\site-packages)\n",
      "WARNING: Ignoring invalid distribution -ip (g:\\data-science\\lib\\site-packages)\n"
     ]
    }
   ],
   "source": [
    "!pip install --upgrade pyqt5 lxml"
   ]
  },
  {
   "cell_type": "code",
   "execution_count": 21,
   "metadata": {},
   "outputs": [],
   "source": [
    "LABELIMG_PATH = os.path.join('Tensorflow', 'labelimg')"
   ]
  },
  {
   "cell_type": "code",
   "execution_count": 22,
   "metadata": {},
   "outputs": [
    {
     "name": "stderr",
     "output_type": "stream",
     "text": [
      "'git' is not recognized as an internal or external command,\n",
      "operable program or batch file.\n"
     ]
    }
   ],
   "source": [
    "if not os.path.exists(LABELIMG_PATH):\n",
    "    !mkdir {LABELIMG_PATH}\n",
    "    !git clone https://github.com/tzutalin/labelImg {LABELIMG_PATH}"
   ]
  },
  {
   "cell_type": "code",
   "execution_count": 23,
   "metadata": {},
   "outputs": [],
   "source": [
    "if os.name == 'posix':\n",
    "    !make qt5py3\n",
    "if os.name =='nt':\n",
    "    !cd {LABELIMG_PATH} && pyrcc5 -o libs/resources.py resources.qrc"
   ]
  },
  {
   "cell_type": "code",
   "execution_count": 24,
   "metadata": {},
   "outputs": [
    {
     "name": "stdout",
     "output_type": "stream",
     "text": [
      "Cancel creation.\n",
      "Image:G:\\data-science\\TFODCourse-main\\Tensorflow\\workspace\\images\\collectedimages\\livelong\\livelong.4db31f8f-f748-11ec-9da8-1c1b0df40b0c.jpg -> Annotation:G:/data-science/TFODCourse-main/Tensorflow/workspace/images/collectedimages/livelong/livelong.4db31f8f-f748-11ec-9da8-1c1b0df40b0c.xml\n",
      "Image:G:\\data-science\\TFODCourse-main\\Tensorflow\\workspace\\images\\collectedimages\\livelong\\livelong.4eec0fb4-f748-11ec-858f-1c1b0df40b0c.jpg -> Annotation:G:/data-science/TFODCourse-main/Tensorflow/workspace/images/collectedimages/livelong/livelong.4eec0fb4-f748-11ec-858f-1c1b0df40b0c.xml\n",
      "Image:G:\\data-science\\TFODCourse-main\\Tensorflow\\workspace\\images\\collectedimages\\livelong\\livelong.5b21f4a5-f748-11ec-9214-1c1b0df40b0c.jpg -> Annotation:G:/data-science/TFODCourse-main/Tensorflow/workspace/images/collectedimages/livelong/livelong.5b21f4a5-f748-11ec-9214-1c1b0df40b0c.xml\n",
      "Image:G:\\data-science\\TFODCourse-main\\Tensorflow\\workspace\\images\\collectedimages\\livelong\\livelong.5c5bf431-f748-11ec-b21d-1c1b0df40b0c.jpg -> Annotation:G:/data-science/TFODCourse-main/Tensorflow/workspace/images/collectedimages/livelong/livelong.5c5bf431-f748-11ec-b21d-1c1b0df40b0c.xml\n",
      "Image:G:\\data-science\\TFODCourse-main\\Tensorflow\\workspace\\images\\collectedimages\\livelong\\livelong.5d931861-f748-11ec-8108-1c1b0df40b0c.jpg -> Annotation:G:/data-science/TFODCourse-main/Tensorflow/workspace/images/collectedimages/livelong/livelong.5d931861-f748-11ec-8108-1c1b0df40b0c.xml\n",
      "Image:G:\\data-science\\TFODCourse-main\\Tensorflow\\workspace\\images\\collectedimages\\livelong\\livelong.5ecc54ae-f748-11ec-b7f1-1c1b0df40b0c.jpg -> Annotation:G:/data-science/TFODCourse-main/Tensorflow/workspace/images/collectedimages/livelong/livelong.5ecc54ae-f748-11ec-b7f1-1c1b0df40b0c.xml\n",
      "Image:G:\\data-science\\TFODCourse-main\\Tensorflow\\workspace\\images\\collectedimages\\livelong\\livelong.53d056d5-f748-11ec-b100-1c1b0df40b0c.jpg -> Annotation:G:/data-science/TFODCourse-main/Tensorflow/workspace/images/collectedimages/livelong/livelong.53d056d5-f748-11ec-b100-1c1b0df40b0c.xml\n",
      "Image:G:\\data-science\\TFODCourse-main\\Tensorflow\\workspace\\images\\collectedimages\\livelong\\livelong.58af9c74-f748-11ec-8830-1c1b0df40b0c.jpg -> Annotation:G:/data-science/TFODCourse-main/Tensorflow/workspace/images/collectedimages/livelong/livelong.58af9c74-f748-11ec-8830-1c1b0df40b0c.xml\n",
      "Image:G:\\data-science\\TFODCourse-main\\Tensorflow\\workspace\\images\\collectedimages\\livelong\\livelong.59e99fa5-f748-11ec-ad64-1c1b0df40b0c.jpg -> Annotation:G:/data-science/TFODCourse-main/Tensorflow/workspace/images/collectedimages/livelong/livelong.59e99fa5-f748-11ec-ad64-1c1b0df40b0c.xml\n",
      "Image:G:\\data-science\\TFODCourse-main\\Tensorflow\\workspace\\images\\collectedimages\\livelong\\livelong.81f0ddbd-f746-11ec-85da-1c1b0df40b0c.jpg -> Annotation:G:/data-science/TFODCourse-main/Tensorflow/workspace/images/collectedimages/livelong/livelong.81f0ddbd-f746-11ec-85da-1c1b0df40b0c.xml\n",
      "Image:G:\\data-science\\TFODCourse-main\\Tensorflow\\workspace\\images\\collectedimages\\livelong\\livelong.86d2c368-f746-11ec-b7c4-1c1b0df40b0c.jpg -> Annotation:G:/data-science/TFODCourse-main/Tensorflow/workspace/images/collectedimages/livelong/livelong.86d2c368-f746-11ec-b7c4-1c1b0df40b0c.xml\n",
      "Image:G:\\data-science\\TFODCourse-main\\Tensorflow\\workspace\\images\\collectedimages\\livelong\\livelong.515f6348-f748-11ec-a37c-1c1b0df40b0c.jpg -> Annotation:G:/data-science/TFODCourse-main/Tensorflow/workspace/images/collectedimages/livelong/livelong.515f6348-f748-11ec-a37c-1c1b0df40b0c.xml\n",
      "Image:G:\\data-science\\TFODCourse-main\\Tensorflow\\workspace\\images\\collectedimages\\livelong\\livelong.563e7893-f748-11ec-9da8-1c1b0df40b0c.jpg -> Annotation:G:/data-science/TFODCourse-main/Tensorflow/workspace/images/collectedimages/livelong/livelong.563e7893-f748-11ec-9da8-1c1b0df40b0c.xml\n",
      "Image:G:\\data-science\\TFODCourse-main\\Tensorflow\\workspace\\images\\collectedimages\\livelong\\livelong.859a1344-f746-11ec-bdc0-1c1b0df40b0c.jpg -> Annotation:G:/data-science/TFODCourse-main/Tensorflow/workspace/images/collectedimages/livelong/livelong.859a1344-f746-11ec-bdc0-1c1b0df40b0c.xml\n",
      "Image:G:\\data-science\\TFODCourse-main\\Tensorflow\\workspace\\images\\collectedimages\\livelong\\livelong.8460ef76-f746-11ec-8d10-1c1b0df40b0c.jpg -> Annotation:G:/data-science/TFODCourse-main/Tensorflow/workspace/images/collectedimages/livelong/livelong.8460ef76-f746-11ec-8d10-1c1b0df40b0c.xml\n",
      "Image:G:\\data-science\\TFODCourse-main\\Tensorflow\\workspace\\images\\collectedimages\\livelong\\livelong.832710b9-f746-11ec-8f8b-1c1b0df40b0c.jpg -> Annotation:G:/data-science/TFODCourse-main/Tensorflow/workspace/images/collectedimages/livelong/livelong.832710b9-f746-11ec-8f8b-1c1b0df40b0c.xml\n",
      "Image:G:\\data-science\\TFODCourse-main\\Tensorflow\\workspace\\images\\collectedimages\\livelong\\livelong.5023708b-f748-11ec-8bef-1c1b0df40b0c.jpg -> Annotation:G:/data-science/TFODCourse-main/Tensorflow/workspace/images/collectedimages/livelong/livelong.5023708b-f748-11ec-8bef-1c1b0df40b0c.xml\n",
      "Image:G:\\data-science\\TFODCourse-main\\Tensorflow\\workspace\\images\\collectedimages\\livelong\\livelong.5295548a-f748-11ec-965e-1c1b0df40b0c.jpg -> Annotation:G:/data-science/TFODCourse-main/Tensorflow/workspace/images/collectedimages/livelong/livelong.5295548a-f748-11ec-965e-1c1b0df40b0c.xml\n",
      "Image:G:\\data-science\\TFODCourse-main\\Tensorflow\\workspace\\images\\collectedimages\\livelong\\livelong.55047063-f748-11ec-8075-1c1b0df40b0c.jpg -> Annotation:G:/data-science/TFODCourse-main/Tensorflow/workspace/images/collectedimages/livelong/livelong.55047063-f748-11ec-8075-1c1b0df40b0c.xml\n",
      "Image:G:\\data-science\\TFODCourse-main\\Tensorflow\\workspace\\images\\collectedimages\\livelong\\livelong.57746494-f748-11ec-a129-1c1b0df40b0c.jpg -> Annotation:G:/data-science/TFODCourse-main/Tensorflow/workspace/images/collectedimages/livelong/livelong.57746494-f748-11ec-a129-1c1b0df40b0c.xml\n",
      "Image:G:\\data-science\\TFODCourse-main\\Tensorflow\\workspace\\images\\collectedimages\\thankyou\\thankyou.0e8f0e3e-f748-11ec-a727-1c1b0df40b0c.jpg -> Annotation:G:/data-science/TFODCourse-main/Tensorflow/workspace/images/collectedimages/thankyou/thankyou.0e8f0e3e-f748-11ec-a727-1c1b0df40b0c.xml\n",
      "Image:G:\\data-science\\TFODCourse-main\\Tensorflow\\workspace\\images\\collectedimages\\thankyou\\thankyou.0fc9eee8-f748-11ec-ac19-1c1b0df40b0c.jpg -> Annotation:G:/data-science/TFODCourse-main/Tensorflow/workspace/images/collectedimages/thankyou/thankyou.0fc9eee8-f748-11ec-ac19-1c1b0df40b0c.xml\n",
      "Image:G:\\data-science\\TFODCourse-main\\Tensorflow\\workspace\\images\\collectedimages\\thankyou\\thankyou.1ac224f1-f748-11ec-8709-1c1b0df40b0c.jpg -> Annotation:G:/data-science/TFODCourse-main/Tensorflow/workspace/images/collectedimages/thankyou/thankyou.1ac224f1-f748-11ec-8709-1c1b0df40b0c.xml\n",
      "Image:G:\\data-science\\TFODCourse-main\\Tensorflow\\workspace\\images\\collectedimages\\thankyou\\thankyou.1bfc7641-f748-11ec-8f41-1c1b0df40b0c.jpg -> Annotation:G:/data-science/TFODCourse-main/Tensorflow/workspace/images/collectedimages/thankyou/thankyou.1bfc7641-f748-11ec-8f41-1c1b0df40b0c.xml\n",
      "Image:G:\\data-science\\TFODCourse-main\\Tensorflow\\workspace\\images\\collectedimages\\thankyou\\thankyou.1d33d92b-f748-11ec-8700-1c1b0df40b0c.jpg -> Annotation:G:/data-science/TFODCourse-main/Tensorflow/workspace/images/collectedimages/thankyou/thankyou.1d33d92b-f748-11ec-8700-1c1b0df40b0c.xml\n",
      "Image:G:\\data-science\\TFODCourse-main\\Tensorflow\\workspace\\images\\collectedimages\\thankyou\\thankyou.1e6c026a-f748-11ec-a16d-1c1b0df40b0c.jpg -> Annotation:G:/data-science/TFODCourse-main/Tensorflow/workspace/images/collectedimages/thankyou/thankyou.1e6c026a-f748-11ec-a16d-1c1b0df40b0c.xml\n",
      "Image:G:\\data-science\\TFODCourse-main\\Tensorflow\\workspace\\images\\collectedimages\\thankyou\\thankyou.1fa607af-f748-11ec-81e3-1c1b0df40b0c.jpg -> Annotation:G:/data-science/TFODCourse-main/Tensorflow/workspace/images/collectedimages/thankyou/thankyou.1fa607af-f748-11ec-81e3-1c1b0df40b0c.xml\n",
      "Image:G:\\data-science\\TFODCourse-main\\Tensorflow\\workspace\\images\\collectedimages\\thankyou\\thankyou.6b357ed8-f746-11ec-95eb-1c1b0df40b0c.jpg -> Annotation:G:/data-science/TFODCourse-main/Tensorflow/workspace/images/collectedimages/thankyou/thankyou.6b357ed8-f746-11ec-95eb-1c1b0df40b0c.xml\n",
      "Image:G:\\data-science\\TFODCourse-main\\Tensorflow\\workspace\\images\\collectedimages\\thankyou\\thankyou.14a790b3-f748-11ec-a29b-1c1b0df40b0c.jpg -> Annotation:G:/data-science/TFODCourse-main/Tensorflow/workspace/images/collectedimages/thankyou/thankyou.14a790b3-f748-11ec-a29b-1c1b0df40b0c.xml\n",
      "Image:G:\\data-science\\TFODCourse-main\\Tensorflow\\workspace\\images\\collectedimages\\thankyou\\thankyou.15df940b-f748-11ec-801f-1c1b0df40b0c.jpg -> Annotation:G:/data-science/TFODCourse-main/Tensorflow/workspace/images/collectedimages/thankyou/thankyou.15df940b-f748-11ec-801f-1c1b0df40b0c.xml\n",
      "Image:G:\\data-science\\TFODCourse-main\\Tensorflow\\workspace\\images\\collectedimages\\thankyou\\thankyou.20deb024-f748-11ec-af9b-1c1b0df40b0c.jpg -> Annotation:G:/data-science/TFODCourse-main/Tensorflow/workspace/images/collectedimages/thankyou/thankyou.20deb024-f748-11ec-af9b-1c1b0df40b0c.xml\n",
      "Image:G:\\data-science\\TFODCourse-main\\Tensorflow\\workspace\\images\\collectedimages\\thankyou\\thankyou.68c37cad-f746-11ec-9912-1c1b0df40b0c.jpg -> Annotation:G:/data-science/TFODCourse-main/Tensorflow/workspace/images/collectedimages/thankyou/thankyou.68c37cad-f746-11ec-9912-1c1b0df40b0c.xml\n",
      "Image:G:\\data-science\\TFODCourse-main\\Tensorflow\\workspace\\images\\collectedimages\\thankyou\\thankyou.136ffe7d-f748-11ec-97a8-1c1b0df40b0c.jpg -> Annotation:G:/data-science/TFODCourse-main/Tensorflow/workspace/images/collectedimages/thankyou/thankyou.136ffe7d-f748-11ec-97a8-1c1b0df40b0c.xml\n",
      "Image:G:\\data-science\\TFODCourse-main\\Tensorflow\\workspace\\images\\collectedimages\\thankyou\\thankyou.678cf553-f746-11ec-8e1c-1c1b0df40b0c.jpg -> Annotation:G:/data-science/TFODCourse-main/Tensorflow/workspace/images/collectedimages/thankyou/thankyou.678cf553-f746-11ec-8e1c-1c1b0df40b0c.xml\n",
      "Image:G:\\data-science\\TFODCourse-main\\Tensorflow\\workspace\\images\\collectedimages\\thankyou\\thankyou.1102dc25-f748-11ec-8938-1c1b0df40b0c.jpg -> Annotation:G:/data-science/TFODCourse-main/Tensorflow/workspace/images/collectedimages/thankyou/thankyou.1102dc25-f748-11ec-8938-1c1b0df40b0c.xml\n",
      "Image:G:\\data-science\\TFODCourse-main\\Tensorflow\\workspace\\images\\collectedimages\\thankyou\\thankyou.1239db85-f748-11ec-953a-1c1b0df40b0c.jpg -> Annotation:G:/data-science/TFODCourse-main/Tensorflow/workspace/images/collectedimages/thankyou/thankyou.1239db85-f748-11ec-953a-1c1b0df40b0c.xml\n",
      "Image:G:\\data-science\\TFODCourse-main\\Tensorflow\\workspace\\images\\collectedimages\\thankyou\\thankyou.1988f6d2-f748-11ec-9861-1c1b0df40b0c.jpg -> Annotation:G:/data-science/TFODCourse-main/Tensorflow/workspace/images/collectedimages/thankyou/thankyou.1988f6d2-f748-11ec-9861-1c1b0df40b0c.xml\n",
      "Image:G:\\data-science\\TFODCourse-main\\Tensorflow\\workspace\\images\\collectedimages\\thankyou\\thankyou.18531a6e-f748-11ec-be27-1c1b0df40b0c.jpg -> Annotation:G:/data-science/TFODCourse-main/Tensorflow/workspace/images/collectedimages/thankyou/thankyou.18531a6e-f748-11ec-be27-1c1b0df40b0c.xml\n",
      "Image:G:\\data-science\\TFODCourse-main\\Tensorflow\\workspace\\images\\collectedimages\\thankyou\\thankyou.66516c5c-f746-11ec-8240-1c1b0df40b0c.jpg -> Annotation:G:/data-science/TFODCourse-main/Tensorflow/workspace/images/collectedimages/thankyou/thankyou.66516c5c-f746-11ec-8240-1c1b0df40b0c.xml\n",
      "Image:G:\\data-science\\TFODCourse-main\\Tensorflow\\workspace\\images\\collectedimages\\thankyou\\thankyou.17173362-f748-11ec-8c8c-1c1b0df40b0c.jpg -> Annotation:G:/data-science/TFODCourse-main/Tensorflow/workspace/images/collectedimages/thankyou/thankyou.17173362-f748-11ec-8c8c-1c1b0df40b0c.xml\n",
      "Image:G:\\data-science\\TFODCourse-main\\Tensorflow\\workspace\\images\\collectedimages\\thumbsdown\\thumbsdown.4be754b9-f746-11ec-9733-1c1b0df40b0c.jpg -> Annotation:G:/data-science/TFODCourse-main/Tensorflow/workspace/images/collectedimages/thumbsdown/thumbsdown.4be754b9-f746-11ec-9733-1c1b0df40b0c.xml\n",
      "Image:G:\\data-science\\TFODCourse-main\\Tensorflow\\workspace\\images\\collectedimages\\thumbsdown\\thumbsdown.4e598049-f746-11ec-9d6c-1c1b0df40b0c.jpg -> Annotation:G:/data-science/TFODCourse-main/Tensorflow/workspace/images/collectedimages/thumbsdown/thumbsdown.4e598049-f746-11ec-9d6c-1c1b0df40b0c.xml\n",
      "Image:G:\\data-science\\TFODCourse-main\\Tensorflow\\workspace\\images\\collectedimages\\thumbsdown\\thumbsdown.7f82a04d-f747-11ec-b844-1c1b0df40b0c.jpg -> Annotation:G:/data-science/TFODCourse-main/Tensorflow/workspace/images/collectedimages/thumbsdown/thumbsdown.7f82a04d-f747-11ec-b844-1c1b0df40b0c.xml\n",
      "Image:G:\\data-science\\TFODCourse-main\\Tensorflow\\workspace\\images\\collectedimages\\thumbsdown\\thumbsdown.8a7f0067-f747-11ec-8d7d-1c1b0df40b0c.jpg -> Annotation:G:/data-science/TFODCourse-main/Tensorflow/workspace/images/collectedimages/thumbsdown/thumbsdown.8a7f0067-f747-11ec-8d7d-1c1b0df40b0c.xml\n",
      "Image:G:\\data-science\\TFODCourse-main\\Tensorflow\\workspace\\images\\collectedimages\\thumbsdown\\thumbsdown.8bb6b2ea-f747-11ec-9140-1c1b0df40b0c.jpg -> Annotation:G:/data-science/TFODCourse-main/Tensorflow/workspace/images/collectedimages/thumbsdown/thumbsdown.8bb6b2ea-f747-11ec-9140-1c1b0df40b0c.xml\n",
      "Image:G:\\data-science\\TFODCourse-main\\Tensorflow\\workspace\\images\\collectedimages\\thumbsdown\\thumbsdown.8cefb817-f747-11ec-9715-1c1b0df40b0c.jpg -> Annotation:G:/data-science/TFODCourse-main/Tensorflow/workspace/images/collectedimages/thumbsdown/thumbsdown.8cefb817-f747-11ec-9715-1c1b0df40b0c.xml\n",
      "Image:G:\\data-science\\TFODCourse-main\\Tensorflow\\workspace\\images\\collectedimages\\thumbsdown\\thumbsdown.8e27e96d-f747-11ec-b420-1c1b0df40b0c.jpg -> Annotation:G:/data-science/TFODCourse-main/Tensorflow/workspace/images/collectedimages/thumbsdown/thumbsdown.8e27e96d-f747-11ec-b420-1c1b0df40b0c.xml\n",
      "Image:G:\\data-science\\TFODCourse-main\\Tensorflow\\workspace\\images\\collectedimages\\thumbsdown\\thumbsdown.8f6189ef-f747-11ec-8599-1c1b0df40b0c.jpg -> Annotation:G:/data-science/TFODCourse-main/Tensorflow/workspace/images/collectedimages/thumbsdown/thumbsdown.8f6189ef-f747-11ec-8599-1c1b0df40b0c.xml\n",
      "Image:G:\\data-science\\TFODCourse-main\\Tensorflow\\workspace\\images\\collectedimages\\thumbsdown\\thumbsdown.80b8c119-f747-11ec-90cf-1c1b0df40b0c.jpg -> Annotation:G:/data-science/TFODCourse-main/Tensorflow/workspace/images/collectedimages/thumbsdown/thumbsdown.80b8c119-f747-11ec-90cf-1c1b0df40b0c.xml\n",
      "Image:G:\\data-science\\TFODCourse-main\\Tensorflow\\workspace\\images\\collectedimages\\thumbsdown\\thumbsdown.81f24211-f747-11ec-b466-1c1b0df40b0c.jpg -> Annotation:G:/data-science/TFODCourse-main/Tensorflow/workspace/images/collectedimages/thumbsdown/thumbsdown.81f24211-f747-11ec-b466-1c1b0df40b0c.xml\n",
      "Image:G:\\data-science\\TFODCourse-main\\Tensorflow\\workspace\\images\\collectedimages\\thumbsdown\\thumbsdown.86d4c29a-f747-11ec-8cf1-1c1b0df40b0c.jpg -> Annotation:G:/data-science/TFODCourse-main/Tensorflow/workspace/images/collectedimages/thumbsdown/thumbsdown.86d4c29a-f747-11ec-8cf1-1c1b0df40b0c.xml\n",
      "Image:G:\\data-science\\TFODCourse-main\\Tensorflow\\workspace\\images\\collectedimages\\thumbsdown\\thumbsdown.91d4cf6f-f747-11ec-bd0e-1c1b0df40b0c.jpg -> Annotation:G:/data-science/TFODCourse-main/Tensorflow/workspace/images/collectedimages/thumbsdown/thumbsdown.91d4cf6f-f747-11ec-bd0e-1c1b0df40b0c.xml\n",
      "Image:G:\\data-science\\TFODCourse-main\\Tensorflow\\workspace\\images\\collectedimages\\thumbsdown\\thumbsdown.859d02dc-f747-11ec-aa6b-1c1b0df40b0c.jpg -> Annotation:G:/data-science/TFODCourse-main/Tensorflow/workspace/images/collectedimages/thumbsdown/thumbsdown.859d02dc-f747-11ec-aa6b-1c1b0df40b0c.xml\n",
      "Image:G:\\data-science\\TFODCourse-main\\Tensorflow\\workspace\\images\\collectedimages\\thumbsdown\\thumbsdown.880bdfa6-f747-11ec-b6cd-1c1b0df40b0c.jpg -> Annotation:G:/data-science/TFODCourse-main/Tensorflow/workspace/images/collectedimages/thumbsdown/thumbsdown.880bdfa6-f747-11ec-b6cd-1c1b0df40b0c.xml\n",
      "Image:G:\\data-science\\TFODCourse-main\\Tensorflow\\workspace\\images\\collectedimages\\thumbsdown\\thumbsdown.909b9350-f747-11ec-a18d-1c1b0df40b0c.jpg -> Annotation:G:/data-science/TFODCourse-main/Tensorflow/workspace/images/collectedimages/thumbsdown/thumbsdown.909b9350-f747-11ec-a18d-1c1b0df40b0c.xml\n",
      "Image:G:\\data-science\\TFODCourse-main\\Tensorflow\\workspace\\images\\collectedimages\\thumbsdown\\thumbsdown.930d7cbe-f747-11ec-9caf-1c1b0df40b0c.jpg -> Annotation:G:/data-science/TFODCourse-main/Tensorflow/workspace/images/collectedimages/thumbsdown/thumbsdown.930d7cbe-f747-11ec-9caf-1c1b0df40b0c.xml\n",
      "Image:G:\\data-science\\TFODCourse-main\\Tensorflow\\workspace\\images\\collectedimages\\thumbsdown\\thumbsdown.957bd821-f747-11ec-95e0-1c1b0df40b0c.jpg -> Annotation:G:/data-science/TFODCourse-main/Tensorflow/workspace/images/collectedimages/thumbsdown/thumbsdown.957bd821-f747-11ec-95e0-1c1b0df40b0c.xml\n",
      "Image:G:\\data-science\\TFODCourse-main\\Tensorflow\\workspace\\images\\collectedimages\\thumbsdown\\thumbsdown.84642190-f747-11ec-b7cb-1c1b0df40b0c.jpg -> Annotation:G:/data-science/TFODCourse-main/Tensorflow/workspace/images/collectedimages/thumbsdown/thumbsdown.84642190-f747-11ec-b7cb-1c1b0df40b0c.xml\n",
      "Image:G:\\data-science\\TFODCourse-main\\Tensorflow\\workspace\\images\\collectedimages\\thumbsdown\\thumbsdown.b2e61bc8-f747-11ec-9f55-1c1b0df40b0c.jpg -> Annotation:G:/data-science/TFODCourse-main/Tensorflow/workspace/images/collectedimages/thumbsdown/thumbsdown.b2e61bc8-f747-11ec-9f55-1c1b0df40b0c.xml\n",
      "Image:G:\\data-science\\TFODCourse-main\\Tensorflow\\workspace\\images\\collectedimages\\thumbsdown\\thumbsdown.b41f7fde-f747-11ec-b141-1c1b0df40b0c.jpg -> Annotation:G:/data-science/TFODCourse-main/Tensorflow/workspace/images/collectedimages/thumbsdown/thumbsdown.b41f7fde-f747-11ec-b141-1c1b0df40b0c.xml\n",
      "Image:G:\\data-science\\TFODCourse-main\\Tensorflow\\workspace\\images\\collectedimages\\thumbsup\\thumbsup.3ad26b22-f747-11ec-abbb-1c1b0df40b0c.jpg -> Annotation:G:/data-science/TFODCourse-main/Tensorflow/workspace/images/collectedimages/thumbsup/thumbsup.3ad26b22-f747-11ec-abbb-1c1b0df40b0c.xml\n",
      "Image:G:\\data-science\\TFODCourse-main\\Tensorflow\\workspace\\images\\collectedimages\\thumbsup\\thumbsup.3c0ade7c-f747-11ec-a0c8-1c1b0df40b0c.jpg -> Annotation:G:/data-science/TFODCourse-main/Tensorflow/workspace/images/collectedimages/thumbsup/thumbsup.3c0ade7c-f747-11ec-a0c8-1c1b0df40b0c.xml\n",
      "Image:G:\\data-science\\TFODCourse-main\\Tensorflow\\workspace\\images\\collectedimages\\thumbsup\\thumbsup.3d435a0d-f747-11ec-910e-1c1b0df40b0c.jpg -> Annotation:G:/data-science/TFODCourse-main/Tensorflow/workspace/images/collectedimages/thumbsup/thumbsup.3d435a0d-f747-11ec-910e-1c1b0df40b0c.xml\n",
      "Image:G:\\data-science\\TFODCourse-main\\Tensorflow\\workspace\\images\\collectedimages\\thumbsup\\thumbsup.3e7d7187-f747-11ec-b1a2-1c1b0df40b0c.jpg -> Annotation:G:/data-science/TFODCourse-main/Tensorflow/workspace/images/collectedimages/thumbsup/thumbsup.3e7d7187-f747-11ec-b1a2-1c1b0df40b0c.xml\n",
      "Image:G:\\data-science\\TFODCourse-main\\Tensorflow\\workspace\\images\\collectedimages\\thumbsup\\thumbsup.3fb54ebb-f747-11ec-99e5-1c1b0df40b0c.jpg -> Annotation:G:/data-science/TFODCourse-main/Tensorflow/workspace/images/collectedimages/thumbsup/thumbsup.3fb54ebb-f747-11ec-99e5-1c1b0df40b0c.xml\n",
      "Image:G:\\data-science\\TFODCourse-main\\Tensorflow\\workspace\\images\\collectedimages\\thumbsup\\thumbsup.34b3ce2e-f747-11ec-8c12-1c1b0df40b0c.jpg -> Annotation:G:/data-science/TFODCourse-main/Tensorflow/workspace/images/collectedimages/thumbsup/thumbsup.34b3ce2e-f747-11ec-8c12-1c1b0df40b0c.xml\n",
      "Image:G:\\data-science\\TFODCourse-main\\Tensorflow\\workspace\\images\\collectedimages\\thumbsup\\thumbsup.35ecd07d-f747-11ec-801d-1c1b0df40b0c.jpg -> Annotation:G:/data-science/TFODCourse-main/Tensorflow/workspace/images/collectedimages/thumbsup/thumbsup.35ecd07d-f747-11ec-801d-1c1b0df40b0c.xml\n",
      "Image:G:\\data-science\\TFODCourse-main\\Tensorflow\\workspace\\images\\collectedimages\\thumbsup\\thumbsup.40efcff7-f747-11ec-9a61-1c1b0df40b0c.jpg -> Annotation:G:/data-science/TFODCourse-main/Tensorflow/workspace/images/collectedimages/thumbsup/thumbsup.40efcff7-f747-11ec-9a61-1c1b0df40b0c.xml\n",
      "Image:G:\\data-science\\TFODCourse-main\\Tensorflow\\workspace\\images\\collectedimages\\thumbsup\\thumbsup.45d4efc9-f747-11ec-8470-1c1b0df40b0c.jpg -> Annotation:G:/data-science/TFODCourse-main/Tensorflow/workspace/images/collectedimages/thumbsup/thumbsup.45d4efc9-f747-11ec-8470-1c1b0df40b0c.xml\n",
      "Image:G:\\data-science\\TFODCourse-main\\Tensorflow\\workspace\\images\\collectedimages\\thumbsup\\thumbsup.337f5db2-f747-11ec-8951-1c1b0df40b0c.jpg -> Annotation:G:/data-science/TFODCourse-main/Tensorflow/workspace/images/collectedimages/thumbsup/thumbsup.337f5db2-f747-11ec-8951-1c1b0df40b0c.xml\n",
      "Image:G:\\data-science\\TFODCourse-main\\Tensorflow\\workspace\\images\\collectedimages\\thumbsup\\thumbsup.385fde9e-f747-11ec-bd35-1c1b0df40b0c.jpg -> Annotation:G:/data-science/TFODCourse-main/Tensorflow/workspace/images/collectedimages/thumbsup/thumbsup.385fde9e-f747-11ec-bd35-1c1b0df40b0c.xml\n",
      "Image:G:\\data-science\\TFODCourse-main\\Tensorflow\\workspace\\images\\collectedimages\\thumbsup\\thumbsup.449b6125-f747-11ec-951e-1c1b0df40b0c.jpg -> Annotation:G:/data-science/TFODCourse-main/Tensorflow/workspace/images/collectedimages/thumbsup/thumbsup.449b6125-f747-11ec-951e-1c1b0df40b0c.xml\n",
      "Image:G:\\data-science\\TFODCourse-main\\Tensorflow\\workspace\\images\\collectedimages\\thumbsup\\thumbsup.470cbe48-f747-11ec-a4e7-1c1b0df40b0c.jpg -> Annotation:G:/data-science/TFODCourse-main/Tensorflow/workspace/images/collectedimages/thumbsup/thumbsup.470cbe48-f747-11ec-a4e7-1c1b0df40b0c.xml\n",
      "Image:G:\\data-science\\TFODCourse-main\\Tensorflow\\workspace\\images\\collectedimages\\thumbsup\\thumbsup.497bcdf5-f747-11ec-ba97-1c1b0df40b0c.jpg -> Annotation:G:/data-science/TFODCourse-main/Tensorflow/workspace/images/collectedimages/thumbsup/thumbsup.497bcdf5-f747-11ec-ba97-1c1b0df40b0c.xml\n",
      "Image:G:\\data-science\\TFODCourse-main\\Tensorflow\\workspace\\images\\collectedimages\\thumbsup\\thumbsup.4843e417-f747-11ec-be6f-1c1b0df40b0c.jpg -> Annotation:G:/data-science/TFODCourse-main/Tensorflow/workspace/images/collectedimages/thumbsup/thumbsup.4843e417-f747-11ec-be6f-1c1b0df40b0c.xml\n",
      "Image:G:\\data-science\\TFODCourse-main\\Tensorflow\\workspace\\images\\collectedimages\\thumbsup\\thumbsup.43622dd4-f747-11ec-979f-1c1b0df40b0c.jpg -> Annotation:G:/data-science/TFODCourse-main/Tensorflow/workspace/images/collectedimages/thumbsup/thumbsup.43622dd4-f747-11ec-979f-1c1b0df40b0c.xml\n",
      "Image:G:\\data-science\\TFODCourse-main\\Tensorflow\\workspace\\images\\collectedimages\\thumbsup\\thumbsup.399829ac-f747-11ec-b60f-1c1b0df40b0c.jpg -> Annotation:G:/data-science/TFODCourse-main/Tensorflow/workspace/images/collectedimages/thumbsup/thumbsup.399829ac-f747-11ec-b60f-1c1b0df40b0c.xml\n",
      "Image:G:\\data-science\\TFODCourse-main\\Tensorflow\\workspace\\images\\collectedimages\\thumbsup\\thumbsup.3247767d-f747-11ec-a5c4-1c1b0df40b0c.jpg -> Annotation:G:/data-science/TFODCourse-main/Tensorflow/workspace/images/collectedimages/thumbsup/thumbsup.3247767d-f747-11ec-a5c4-1c1b0df40b0c.xml\n",
      "Image:G:\\data-science\\TFODCourse-main\\Tensorflow\\workspace\\images\\collectedimages\\thumbsup\\thumbsup.3726100c-f747-11ec-b031-1c1b0df40b0c.jpg -> Annotation:G:/data-science/TFODCourse-main/Tensorflow/workspace/images/collectedimages/thumbsup/thumbsup.3726100c-f747-11ec-b031-1c1b0df40b0c.xml\n",
      "Image:G:\\data-science\\TFODCourse-main\\Tensorflow\\workspace\\images\\collectedimages\\thumbsup\\thumbsup.42291785-f747-11ec-b714-1c1b0df40b0c.jpg -> Annotation:G:/data-science/TFODCourse-main/Tensorflow/workspace/images/collectedimages/thumbsup/thumbsup.42291785-f747-11ec-b714-1c1b0df40b0c.xml\n"
     ]
    }
   ],
   "source": [
    "!cd {LABELIMG_PATH} && python labelImg.py"
   ]
  },
  {
   "cell_type": "markdown",
   "metadata": {},
   "source": [
    "# 6. Move them into a Training and Testing Partition"
   ]
  },
  {
   "cell_type": "markdown",
   "metadata": {},
   "source": [
    "# OPTIONAL - 7. Compress them for Colab Training"
   ]
  },
  {
   "cell_type": "code",
   "execution_count": 20,
   "metadata": {},
   "outputs": [],
   "source": [
    "TRAIN_PATH = os.path.join('Tensorflow', 'workspace', 'images', 'train')\n",
    "TEST_PATH = os.path.join('Tensorflow', 'workspace', 'images', 'test')\n",
    "ARCHIVE_PATH = os.path.join('Tensorflow', 'workspace', 'images', 'archive.tar.gz')"
   ]
  },
  {
   "cell_type": "code",
   "execution_count": 21,
   "metadata": {},
   "outputs": [],
   "source": [
    "!tar -czf {ARCHIVE_PATH} {TRAIN_PATH} {TEST_PATH}"
   ]
  },
  {
   "cell_type": "code",
   "execution_count": null,
   "metadata": {},
   "outputs": [],
   "source": []
  }
 ],
 "metadata": {
  "kernelspec": {
   "display_name": "Python 3 (ipykernel)",
   "language": "python",
   "name": "python3"
  },
  "language_info": {
   "codemirror_mode": {
    "name": "ipython",
    "version": 3
   },
   "file_extension": ".py",
   "mimetype": "text/x-python",
   "name": "python",
   "nbconvert_exporter": "python",
   "pygments_lexer": "ipython3",
   "version": "3.10.1"
  }
 },
 "nbformat": 4,
 "nbformat_minor": 4
}
